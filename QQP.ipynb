{
  "nbformat": 4,
  "nbformat_minor": 0,
  "metadata": {
    "colab": {
      "name": "spark_dataframe_basics.ipynb",
      "provenance": [],
      "collapsed_sections": []
    },
    "kernelspec": {
      "name": "python3",
      "display_name": "Python 3"
    }
  },
  "cells": [
    {
      "cell_type": "code",
      "execution_count": 1,
      "metadata": {},
      "outputs": [],
      "source": [
        "import findspark\n",
        "findspark.init()\n",
        "findspark.find()\n",
        "import pyspark\n"
      ]
    },
    {
      "cell_type": "code",
      "execution_count": 2,
      "metadata": {},
      "outputs": [],
      "source": [
        "from pyspark import SparkContext, SparkConf\n",
        "from pyspark.sql import SparkSession\n",
        "\n",
        "spark = SparkSession \\\n",
        "    .builder \\\n",
        "    .appName(\"profeco data\") \\\n",
        "    .getOrCreate()"
      ]
    },
    {
      "cell_type": "code",
      "execution_count": 3,
      "metadata": {
        "tags": []
      },
      "outputs": [],
      "source": [
        "# read the csv file\n",
        "df = spark.read.csv('data/all_data.csv',header = True,sep=\",\")"
      ]
    },
    {
      "cell_type": "code",
      "execution_count": 4,
      "metadata": {
        "tags": []
      },
      "outputs": [
        {
          "output_type": "stream",
          "name": "stdout",
          "text": "+--------------------+--------------------+--------+----------------+----------------+------+--------------------+------------------+----------+--------------------+--------------------+----------------+--------------------+--------+----------+\n|            producto|        presentacion|   marca|       categoria|        catalogo|precio|       fechaRegistro|   cadenaComercial|      giro|     nombreComercial|           direccion|          estado|           municipio| latitud|  longitud|\n+--------------------+--------------------+--------+----------------+----------------+------+--------------------+------------------+----------+--------------------+--------------------+----------------+--------------------+--------+----------+\n|CUADERNO FORMA IT...|96 HOJAS PASTA DU...|ESTRELLA|MATERIAL ESCOLAR|UTILES ESCOLARES|  25.9|2011-05-18 00:00:...|ABASTECEDORA LUMEN|PAPELERIAS|ABASTECEDORA LUME...|CANNES No. 6 ESQ....|DISTRITO FEDERAL|TLALPAN          ...|19.29699|-99.125417|\n+--------------------+--------------------+--------+----------------+----------------+------+--------------------+------------------+----------+--------------------+--------------------+----------------+--------------------+--------+----------+\nonly showing top 1 row\n\n"
        }
      ],
      "source": [
        "# peek the data\n",
        "df.show(1)"
      ]
    },
    {
      "cell_type": "code",
      "execution_count": 5,
      "metadata": {
        "tags": []
      },
      "outputs": [
        {
          "output_type": "stream",
          "name": "stdout",
          "text": "root\n |-- producto: string (nullable = true)\n |-- presentacion: string (nullable = true)\n |-- marca: string (nullable = true)\n |-- categoria: string (nullable = true)\n |-- catalogo: string (nullable = true)\n |-- precio: string (nullable = true)\n |-- fechaRegistro: string (nullable = true)\n |-- cadenaComercial: string (nullable = true)\n |-- giro: string (nullable = true)\n |-- nombreComercial: string (nullable = true)\n |-- direccion: string (nullable = true)\n |-- estado: string (nullable = true)\n |-- municipio: string (nullable = true)\n |-- latitud: string (nullable = true)\n |-- longitud: string (nullable = true)\n\n"
        }
      ],
      "source": [
        "df.printSchema()"
      ]
    },
    {
      "source": [
        "### 1. Procesamiento de los datos \n",
        "#### a. ¿Cuántos registros hay?"
      ],
      "cell_type": "markdown",
      "metadata": {}
    },
    {
      "cell_type": "code",
      "execution_count": 6,
      "metadata": {},
      "outputs": [
        {
          "output_type": "execute_result",
          "data": {
            "text/plain": "62530715"
          },
          "metadata": {},
          "execution_count": 6
        }
      ],
      "source": [
        "df.count()"
      ]
    },
    {
      "source": [
        "#### b. ¿Cuántas categorías?"
      ],
      "cell_type": "markdown",
      "metadata": {}
    },
    {
      "cell_type": "code",
      "execution_count": 7,
      "metadata": {
        "tags": []
      },
      "outputs": [
        {
          "output_type": "stream",
          "name": "stdout",
          "text": "+--------------------+\n|           categoria|\n+--------------------+\n|    MATERIAL ESCOLAR|\n|ARTS. PARA EL CUI...|\n|PESCADOS Y MARISC...|\n|UTENSILIOS DOMEST...|\n|           categoria|\n|DETERGENTES Y PRO...|\n|CARNE Y VISCERAS ...|\n|PRODUCTOS DE TEMP...|\n|GALLETAS PASTAS Y...|\n|  HORTALIZAS FRESCAS|\n|                null|\n|  DERIVADOS DE LECHE|\n|TORTILLAS Y DERIV...|\n|GRASAS ANIMALES C...|\n|APARATOS ELECTRON...|\n|     LEGUMBRES SECAS|\n|                CAFE|\n|   MUEBLES DE COCINA|\n|CARNES FRIAS SECA...|\n|CHOCOLATES Y GOLO...|\n+--------------------+\nonly showing top 20 rows\n\n"
        }
      ],
      "source": [
        "df.select(\"categoria\").distinct().show()"
      ]
    },
    {
      "cell_type": "code",
      "execution_count": 8,
      "metadata": {},
      "outputs": [
        {
          "output_type": "execute_result",
          "data": {
            "text/plain": "42"
          },
          "metadata": {},
          "execution_count": 8
        }
      ],
      "source": [
        "df.select(\"categoria\").distinct().count()"
      ]
    },
    {
      "source": [
        "#### c. ¿Cuántas cadenas comerciales están siendo monitoreadas?"
      ],
      "cell_type": "markdown",
      "metadata": {}
    },
    {
      "cell_type": "code",
      "execution_count": 14,
      "metadata": {},
      "outputs": [
        {
          "output_type": "execute_result",
          "data": {
            "text/plain": "706"
          },
          "metadata": {},
          "execution_count": 14
        }
      ],
      "source": [
        "df.select(\"cadenaComercial\").distinct().count()"
      ]
    },
    {
      "source": [
        "#### d. ¿Cómo podrías determinar la calidad de los datos? ¿Detectaste algún tipo de inconsistencia o error en la fuente?\n",
        "\n",
        "Se puede ver que hay algunas inconsistencia con la información, como:\n",
        "- Valores Nulos\n",
        "- Nombres que podría unirse en uno; Distrito Federal con México\n",
        "- Datos que están incompletos o que fueron llenados de manera incorrecta, por ejemplo; en la columna de categoría, aparece la palabra _categoría_ en lugar de un tipo de categoría en específico\n",
        "- Los tipos de datos no corresponden a la información mostrada, tal es el caso de un float como string, que no permitiría realziar operaciones matemáticas con él.\n",
        "- Es posible que la información que se tiene esté anidada en varias tablas, eso explicaría por qué algunos títulos de columnas se repiten como valores.\n",
        "\n",
        "\n"
      ],
      "cell_type": "markdown",
      "metadata": {}
    },
    {
      "source": [
        "#### e. ¿Cuáles son los productos más monitoreados en cada entidad?"
      ],
      "cell_type": "markdown",
      "metadata": {}
    },
    {
      "cell_type": "code",
      "execution_count": 15,
      "metadata": {
        "tags": []
      },
      "outputs": [
        {
          "output_type": "stream",
          "name": "stdout",
          "text": "+----------------+--------------------+------+\n|          estado|            producto| count|\n+----------------+--------------------+------+\n|DISTRITO FEDERAL|            REFRESCO|287463|\n|DISTRITO FEDERAL|                 FUD|207569|\n|          MÉXICO|            REFRESCO|194939|\n|DISTRITO FEDERAL|LECHE ULTRAPASTEU...|175640|\n|DISTRITO FEDERAL|   DETERGENTE P/ROPA|173452|\n|          MÉXICO|                 FUD|149141|\n|DISTRITO FEDERAL|             YOGHURT|136720|\n|DISTRITO FEDERAL|             CERVEZA|136686|\n|          MÉXICO|   DETERGENTE P/ROPA|132862|\n|DISTRITO FEDERAL|            MAYONESA|131103|\n|DISTRITO FEDERAL|      CHILES EN LATA|130598|\n|DISTRITO FEDERAL|    JABON DE TOCADOR|129889|\n|DISTRITO FEDERAL|             SHAMPOO|125603|\n|DISTRITO FEDERAL|      LECHE EN POLVO|116827|\n|          MÉXICO|LECHE ULTRAPASTEU...|116522|\n|DISTRITO FEDERAL|         DESODORANTE|113779|\n|DISTRITO FEDERAL|               HUEVO|111412|\n|DISTRITO FEDERAL|     TOALLA FEMENINA|102356|\n|DISTRITO FEDERAL|           MARGARINA| 98235|\n|          MÉXICO|    JABON DE TOCADOR| 97330|\n+----------------+--------------------+------+\nonly showing top 20 rows\n\n"
        }
      ],
      "source": [
        "from pyspark.sql.functions import desc\n",
        "df.groupBy('estado','producto').count().sort(desc('count')).show()"
      ]
    },
    {
      "source": [
        "#### f. ¿Cuál es la cadena comercial con mayor variedad de productos monitoreados?"
      ],
      "cell_type": "markdown",
      "metadata": {}
    },
    {
      "cell_type": "code",
      "execution_count": 20,
      "metadata": {
        "tags": []
      },
      "outputs": [
        {
          "output_type": "stream",
          "name": "stdout",
          "text": "+----------------+--------------------+-----+\n| cadenaComercial|            producto|count|\n+----------------+--------------------+-----+\n| cadenaComercial|            producto|   20|\n|ZARAGOZA MUEBLES| HORNO DE MICROONDAS|   62|\n|ZARAGOZA MUEBLES|           CAFETERAS|   18|\n|ZARAGOZA MUEBLES|     HORNO ELECTRICO|   17|\n|ZARAGOZA MUEBLES|      REFRIGERADORES|   71|\n|ZARAGOZA MUEBLES|COMPONENTES DE AUDIO|   47|\n|ZARAGOZA MUEBLES|   TOSTADORES DE PAN|   16|\n|ZARAGOZA MUEBLES|     RADIOGRABADORAS|   56|\n|ZARAGOZA MUEBLES|        VIDEOCAMARAS|   41|\n|ZARAGOZA MUEBLES|           LAVADORAS|  107|\n|ZARAGOZA MUEBLES|EXTRACTORES DE JU...|   38|\n|ZARAGOZA MUEBLES|   CAMARAS DIGITALES|   26|\n|ZARAGOZA MUEBLES|             ESTUFAS|   50|\n|ZARAGOZA MUEBLES|          LICUADORAS|   19|\n|ZARAGOZA MUEBLES|         TELEVISORES|   55|\n|ZARAGOZA MUEBLES|            PLANCHAS|   44|\n| ZAPOPAN ESCOLAR|CUADERNO FORMA CO...|  165|\n| ZAPOPAN ESCOLAR|         COLOR LARGO| 2299|\n| ZAPOPAN ESCOLAR|              COMPAS|  442|\n| ZAPOPAN ESCOLAR|            PLUMONES|  621|\n+----------------+--------------------+-----+\nonly showing top 20 rows\n\n"
        }
      ],
      "source": [
        "df.groupBy('cadenaComercial','producto').count().sort(desc('cadenaComercial')).show()"
      ]
    },
    {
      "source": [
        "### Análisis exploratorio\n",
        "\n",
        "#### a. Genera una canasta de productos básicos que te permita comparar los precios geográfica y temporalmente. Justifica tu elección y procedimiento\n",
        "\n",
        "De acuerdo al Gobierno de México, actualmente existen 40 productos de la canasta básica. Por lo que, con base en ello se seleccionaron algunos productos intentando que haya al menos uno de cada grupo de alimentos:\n",
        "#### - Leche y derivados\n",
        "- Leche\n",
        "#### - Carnes, pescados y huevos\n",
        "- Pollo\n",
        "- Res\n",
        "- Puerco\n",
        "- Huevo\n",
        "\n",
        "#### -Patatas, legumbres, frutos secos\n",
        "- Frijoles\n",
        "- Lentejas\n",
        "\n",
        "\n",
        "#### - Verduras y hortalizas\n",
        "- Zanahoria\n",
        "- Aguacate\n",
        "- Chayote\n",
        "- Calabacitas\n",
        "\n",
        "\n",
        "#### - Frutas\n",
        "- Plátano\n",
        "- Jitomate\n",
        " \n",
        "#### - Cereales y derivados, azúcares y dulces\n",
        "\n",
        "- Chocolate\n",
        "- Pasta para sopa\n",
        "\n",
        "#### - Grasas, aceite y mantequilla\n",
        "\n",
        "- Aceite vegetal comestible\n",
        "\n",
        "\n",
        "Y con base a lo publicado por la CONASAMI, el salario mínimo está fijado en 123.22 pesos diarios, por lo que el rango de esta selecicón estaría limitada a este ingreso mensual, se tendrían que considerar los productos de acuerdo a si alcanza o no a comprarse con el ingreso. Con la selección de estos productos básicos, se garantiza su aparición en el inventario de las tiendas por lo que es más fácil trazarlo en el tiempo.\n",
        "\n",
        "\n",
        "#### c. ¿Hay algún patrón estacional entre años?\n",
        "\n"
      ],
      "cell_type": "markdown",
      "metadata": {}
    },
    {
      "cell_type": "code",
      "execution_count": 24,
      "metadata": {},
      "outputs": [],
      "source": [
        "data_df =df.withColumn('precio', df.precio.cast(\"double\"))"
      ]
    },
    {
      "cell_type": "code",
      "execution_count": 27,
      "metadata": {
        "tags": []
      },
      "outputs": [],
      "source": [
        "canasta_basica = ['LECHE','POLLO','FILETE DE RES','PUERCO','HUEVO','FRIJOLES','LENTEJAS','ZANAHORIA','AGUACATE', 'CHAYOTE','CALABACITAS','PLATANO','JITOMATE', 'CHOCOLATE','PASTA']"
      ]
    },
    {
      "cell_type": "code",
      "execution_count": 40,
      "metadata": {
        "tags": []
      },
      "outputs": [],
      "source": [
        "from pyspark.sql.functions import col\n",
        "canasta_filtro = data_df.filter(col('producto').isin(canasta_basica))"
      ]
    },
    {
      "cell_type": "code",
      "execution_count": 41,
      "metadata": {
        "tags": []
      },
      "outputs": [
        {
          "output_type": "stream",
          "name": "stdout",
          "text": "+---------+--------------------+----------+--------------------+------------------+------+--------------------+------------------+--------------------+--------------------+--------------------+----------------+--------------------+---------+----------+\n| producto|        presentacion|     marca|           categoria|          catalogo|precio|       fechaRegistro|   cadenaComercial|                giro|     nombreComercial|           direccion|          estado|           municipio|  latitud|  longitud|\n+---------+--------------------+----------+--------------------+------------------+------+--------------------+------------------+--------------------+--------------------+--------------------+----------------+--------------------+---------+----------+\n|ZANAHORIA|        1 KG. GRANDE|       S/M|  HORTALIZAS FRESCAS|FRUTAS Y LEGUMBRES|  12.9|2011-01-10 00:00:...|COMERCIAL MEXICANA|TIENDA DE AUTOSER...|COMERCIAL MEXICAN...|AV. LAGO DE GUADA...|          MÉXICO|ATIZAPAN         ...|       NA|        NA|\n| JITOMATE|     1 KG. SALADETTE|       S/M|  HORTALIZAS FRESCAS|FRUTAS Y LEGUMBRES|  14.9|2011-01-10 00:00:...|COMERCIAL MEXICANA|TIENDA DE AUTOSER...|COMERCIAL MEXICAN...|AV. LAGO DE GUADA...|          MÉXICO|ATIZAPAN         ...|       NA|        NA|\n| FRIJOLES|LATA 400 GR. REFR...|LA COSTENA|FRUTAS Y LEGUMBRE...|           BASICOS| 10.35|2011-01-10 00:00:...|COMERCIAL MEXICANA|TIENDA DE AUTOSER...|COMERCIAL MEXICAN...|AV. LAGO DE GUADA...|          MÉXICO|ATIZAPAN         ...|       NA|        NA|\n|    HUEVO| PAQUETE CON 12 ROJO|  SAN JUAN|               HUEVO|           BASICOS| 17.57|2011-01-10 00:00:...|COMERCIAL MEXICANA|TIENDA DE AUTOSER...|COMERCIAL MEXICAN...|AV. LAGO DE GUADA...|          MÉXICO|ATIZAPAN         ...|       NA|        NA|\n|  PLATANO|1 KG. TABASCO/CHI...|       S/M|      FRUTAS FRESCAS|FRUTAS Y LEGUMBRES|   9.2|2011-01-10 00:00:...|COMERCIAL MEXICANA|TIENDA DE AUTOSER...|COMERCIAL MEXICAN...|AV. LAGO DE GUADA...|          MÉXICO|ATIZAPAN         ...|       NA|        NA|\n|  CHAYOTE|   1 KG. SIN ESPINAS|       S/M|  HORTALIZAS FRESCAS|FRUTAS Y LEGUMBRES|  15.9|2011-01-10 00:00:...|COMERCIAL MEXICANA|TIENDA DE AUTOSER...|COMERCIAL MEXICAN...|AV. LAGO DE GUADA...|          MÉXICO|ATIZAPAN         ...|       NA|        NA|\n|ZANAHORIA|       1 KG. MEDIANA|       S/M|  HORTALIZAS FRESCAS|FRUTAS Y LEGUMBRES|  12.9|2011-01-10 00:00:...|COMERCIAL MEXICANA|TIENDA DE AUTOSER...|COMERCIAL MEXICAN...|AV. LAGO DE GUADA...|          MÉXICO|ATIZAPAN         ...|       NA|        NA|\n| FRIJOLES|LATA 430 GR. REFR...|SAN MARCOS|FRUTAS Y LEGUMBRE...|           BASICOS|   9.0|2011-01-10 00:00:...|COMERCIAL MEXICANA|TIENDA DE AUTOSER...|COMERCIAL MEXICAN...|AV. LAGO DE GUADA...|          MÉXICO|ATIZAPAN         ...|       NA|        NA|\n| FRIJOLES|LATA 560 GR. ENTE...| LA SIERRA|FRUTAS Y LEGUMBRE...|           BASICOS|  9.51|2011-01-10 00:00:...|COMERCIAL MEXICANA|TIENDA DE AUTOSER...|COMERCIAL MEXICAN...|AV. LAGO DE GUADA...|          MÉXICO|ATIZAPAN         ...|       NA|        NA|\n| JITOMATE|  1 KG. BOLA/SINALOA|       S/M|  HORTALIZAS FRESCAS|FRUTAS Y LEGUMBRES|  14.9|2011-01-10 00:00:...|COMERCIAL MEXICANA|TIENDA DE AUTOSER...|COMERCIAL MEXICAN...|AV. LAGO DE GUADA...|          MÉXICO|ATIZAPAN         ...|       NA|        NA|\n| AGUACATE|          1 KG. HASS|       S/M|      FRUTAS FRESCAS|FRUTAS Y LEGUMBRES|  33.9|2011-01-10 00:00:...|COMERCIAL MEXICANA|TIENDA DE AUTOSER...|COMERCIAL MEXICAN...|AV. LAGO DE GUADA...|          MÉXICO|ATIZAPAN         ...|       NA|        NA|\n|  PLATANO|         1 KG. MACHO|       S/M|      FRUTAS FRESCAS|FRUTAS Y LEGUMBRES|  15.9|2011-01-10 00:00:...|COMERCIAL MEXICANA|TIENDA DE AUTOSER...|COMERCIAL MEXICAN...|AV. LAGO DE GUADA...|          MÉXICO|ATIZAPAN         ...|       NA|        NA|\n|    HUEVO|PAQUETE CON 12 BL...|  SAN JUAN|               HUEVO|           BASICOS| 17.57|2011-01-10 00:00:...|COMERCIAL MEXICANA|TIENDA DE AUTOSER...|COMERCIAL MEXICAN...|AV. LAGO DE GUADA...|          MÉXICO|ATIZAPAN         ...|       NA|        NA|\n| JITOMATE|     1 KG. SALADETTE|       S/M|  HORTALIZAS FRESCAS|FRUTAS Y LEGUMBRES|  14.9|2011-01-10 00:00:...|COMERCIAL MEXICANA|TIENDA DE AUTOSER...|COMERCIAL MEXICAN...|PERPETUA NO. 35 E...|DISTRITO FEDERAL|BENITO JUAREZ    ...|19.366903|-99.181344|\n|    HUEVO|PAQUETE CON 12 BL...|   BACHOCO|               HUEVO|           BASICOS|  18.2|2011-01-10 00:00:...|COMERCIAL MEXICANA|TIENDA DE AUTOSER...|COMERCIAL MEXICAN...|PERPETUA NO. 35 E...|DISTRITO FEDERAL|BENITO JUAREZ    ...|19.366903|-99.181344|\n|    HUEVO|PAQUETE CON 18 BL...|  SAN JUAN|               HUEVO|           BASICOS| 27.37|2011-01-10 00:00:...|COMERCIAL MEXICANA|TIENDA DE AUTOSER...|COMERCIAL MEXICAN...|PERPETUA NO. 35 E...|DISTRITO FEDERAL|BENITO JUAREZ    ...|19.366903|-99.181344|\n|    HUEVO|PAQUETE CON 18 BL...|   BACHOCO|               HUEVO|           BASICOS|  24.1|2011-01-10 00:00:...|COMERCIAL MEXICANA|TIENDA DE AUTOSER...|COMERCIAL MEXICAN...|PERPETUA NO. 35 E...|DISTRITO FEDERAL|BENITO JUAREZ    ...|19.366903|-99.181344|\n|    HUEVO| PAQUETE CON 12 ROJO|   BACHOCO|               HUEVO|           BASICOS|  18.4|2011-01-10 00:00:...|COMERCIAL MEXICANA|TIENDA DE AUTOSER...|COMERCIAL MEXICAN...|PERPETUA NO. 35 E...|DISTRITO FEDERAL|BENITO JUAREZ    ...|19.366903|-99.181344|\n|    HUEVO| PAQUETE CON 12 ROJO|  SAN JUAN|               HUEVO|           BASICOS| 19.17|2011-01-10 00:00:...|COMERCIAL MEXICANA|TIENDA DE AUTOSER...|COMERCIAL MEXICAN...|PERPETUA NO. 35 E...|DISTRITO FEDERAL|BENITO JUAREZ    ...|19.366903|-99.181344|\n|  PLATANO|1 KG. TABASCO/CHI...|       S/M|      FRUTAS FRESCAS|FRUTAS Y LEGUMBRES|   9.2|2011-01-10 00:00:...|COMERCIAL MEXICANA|TIENDA DE AUTOSER...|COMERCIAL MEXICAN...|PERPETUA NO. 35 E...|DISTRITO FEDERAL|BENITO JUAREZ    ...|19.366903|-99.181344|\n+---------+--------------------+----------+--------------------+------------------+------+--------------------+------------------+--------------------+--------------------+--------------------+----------------+--------------------+---------+----------+\nonly showing top 20 rows\n\n"
        }
      ],
      "source": [
        "canasta_filtro.show()"
      ]
    },
    {
      "source": [
        "#### b. ¿Cuál es la ciudad más cara del país? ¿Cuál es la más barata?\n",
        "\n",
        "De acuerdo al Índice de Precios al Consumidor (INPC) emitido por el Instituto Nacional de Estadística y Geografía (INEGI) la ciudad de __Puebla__ es la ciudad más cara, al contrario de __Querétaro__ que es la más barata."
      ],
      "cell_type": "markdown",
      "metadata": {}
    },
    {
      "cell_type": "code",
      "execution_count": 47,
      "metadata": {
        "tags": []
      },
      "outputs": [
        {
          "output_type": "stream",
          "name": "stdout",
          "text": "+--------------------+------------------+\n|              estado|       sum(precio)|\n+--------------------+------------------+\n|    DISTRITO FEDERAL| 4859810.320000046|\n|              MÉXICO|3188114.3200000087|\n|             JALISCO|1854483.1199999966|\n|          NUEVO LEÓN| 794540.4099999983|\n|          GUANAJUATO| 643610.0699999998|\n|              PUEBLA| 634233.0200000001|\n| MICHOACÁN DE OCAMPO| 523057.3800000001|\n|            TLAXCALA| 518321.3300000001|\n|              SONORA|482641.56000000023|\n|        QUINTANA ROO|482398.91000000027|\n|           QUERÉTARO| 463411.8700000003|\n|             SINALOA| 451903.6200000005|\n|             TABASCO| 430197.9200000003|\n|COAHUILA DE ZARAGOZA|         426506.27|\n|     BAJA CALIFORNIA|400075.87999999966|\n|             YUCATÁN|357914.34000000014|\n|          TAMAULIPAS|343265.91999999946|\n| BAJA CALIFORNIA SUR|334276.94999999995|\n|             HIDALGO| 315811.3800000001|\n|           ZACATECAS| 310293.9800000003|\n+--------------------+------------------+\nonly showing top 20 rows\n\n"
        }
      ],
      "source": [
        "\n",
        "canasta_filtro.groupBy('estado').sum().sort(desc('sum(precio)')).show()"
      ]
    },
    {
      "cell_type": "code",
      "execution_count": 48,
      "metadata": {
        "tags": []
      },
      "outputs": [
        {
          "output_type": "stream",
          "name": "stdout",
          "text": "+--------------------+------------------+\n|              estado|       sum(precio)|\n+--------------------+------------------+\n| COL. EDUARDO GUERRA|           5677.35|\n|                null| 9940.539999999997|\n|             NAYARIT|          70070.16|\n|            CAMPECHE|123522.98000000005|\n|             DURANGO|125638.61000000002|\n|             CHIAPAS|153819.41000000012|\n|     SAN LUIS POTOSÍ|182003.39000000013|\n|            GUERRERO| 185324.9300000001|\n|             MORELOS|189372.21000000005|\n|      AGUASCALIENTES| 223080.2100000002|\n|           CHIHUAHUA|229642.06000000017|\n|VERACRUZ DE IGNAC...| 250872.3100000001|\n|              OAXACA|263969.14000000025|\n|              COLIMA| 277549.8500000001|\n|           ZACATECAS| 310293.9800000003|\n|             HIDALGO| 315811.3800000001|\n| BAJA CALIFORNIA SUR|334276.94999999995|\n|          TAMAULIPAS|343265.91999999946|\n|             YUCATÁN|357914.34000000014|\n|     BAJA CALIFORNIA|400075.87999999966|\n+--------------------+------------------+\nonly showing top 20 rows\n\n"
        }
      ],
      "source": [
        "canasta_filtro.groupBy('estado').sum().sort('sum(precio)').show()"
      ]
    }
  ]
}