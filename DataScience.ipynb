{
 "metadata": {
  "language_info": {
   "codemirror_mode": {
    "name": "ipython",
    "version": 3
   },
   "file_extension": ".py",
   "mimetype": "text/x-python",
   "name": "python",
   "nbconvert_exporter": "python",
   "pygments_lexer": "ipython3",
   "version": "3.7.4-final"
  },
  "orig_nbformat": 2,
  "kernelspec": {
   "name": "python3",
   "display_name": "Python 3"
  }
 },
 "nbformat": 4,
 "nbformat_minor": 2,
 "cells": [
  {
   "cell_type": "markdown",
   "metadata": {},
   "source": [
    "# Prueba para la vacante de Data Science \n",
    "\n",
    "## Caso A\n",
    "\n",
    "La Agencia Digital de Innovación Pública tiene disponibles los datos georeferenciados de las carpetas de investigación aportados por la PGJ.\n",
    "\n",
    "### 1) ¿Qué pruebas identificarías para asegurar la calidad de estos datos? No es necesario hacerlas. Sólo describe la prueba y qué te dice cada una.\n",
    "\n",
    "> \"En su interpretación  más estrecha, calidad significa calidad del producto, pero en su interpretación más amplia significa calidad del trabajo, calidad del servicio, calidad de la información, calidad del proceso, calidad de la dirección y calidad de la empresa\". Ishikawa\n",
    "\n",
    "Hablar de data quality implica poder garantizar que cada dato reúne todos los criterios necesarios:\n",
    "\n",
    "- Exactitud\n",
    "- Integridad\n",
    "- Actualización\n",
    "- Relevancia\n",
    "- Coherencia\n",
    "- Confiabilidad\n",
    "- Presentación apropiada\n",
    "- Accesibilidad\n",
    "\n",
    "#### ¿Cómo se puede garantizar, entonces, la caldidad de los datos?\n",
    "\n",
    "Ya que cada organización es diferente se tendría que analizar cada caso es particular para poder realizar pruebas más específicas; sin embargo, se pueden aplicar medidas cuantitativas del data quality universales:\n",
    "\n",
    "- __Completitud__: es el grado en el que todos los atributos del dato están presentes.\n",
    "- __Validez__: representa el grado en que un instrumento realmente mide la variable que pretende medir.\n",
    "- __Unicidad__: la medida en que todos los valores distintos de un elemento de datos aparecen sólo una vez.\n",
    "- __Integridad__: tiene que ver con el grado de conformidad con las reglas de relación de datos definidas.\n",
    "- __Precisión__: determina en qué medida los datos representan correctamente la verdad sobre un objeto del mundo real o se ajustan a lo establecido por una fuente autorizada.\n",
    "- __Coherencia__: representa el grado en que una pieza única de datos contiene el mismo valor a través de múltiples conjuntos de datos.\n",
    "- __Oportunidad__: este atributo de la calidad de datos permite conocer si éstos están disponibles cuando se requiere.\n",
    "- __Representación__: tiene que ver con el formato, patrón, legibilidad y utilidad de los datos para su uso previsto.\n"
   ]
  },
  {
   "cell_type": "code",
   "execution_count": 1,
   "metadata": {},
   "outputs": [
    {
     "output_type": "execute_result",
     "data": {
      "text/plain": "   ao_hechos mes_hechos         fecha_hechos  \\\n0     2016.0      Enero  2016-01-06 00:00:00   \n1     2016.0      Enero  2016-01-07 13:00:00   \n2     2016.0      Enero  2016-01-07 12:10:00   \n3     2015.0  Diciembre  2015-12-27 19:30:00   \n4     2015.0  Diciembre  2015-12-10 20:00:00   \n\n                                       delito        categoria_delito  \\\n0        ROBO A CASA HABITACION SIN VIOLENCIA  DELITO DE BAJO IMPACTO   \n1  ROBO A TRANSEUNTE DE CELULAR CON VIOLENCIA  DELITO DE BAJO IMPACTO   \n2                          VIOLENCIA FAMILIAR  DELITO DE BAJO IMPACTO   \n3                 LESIONES CULPOSAS POR CAIDA  DELITO DE BAJO IMPACTO   \n4  ROBO A TRANSEUNTE DE CELULAR CON VIOLENCIA  DELITO DE BAJO IMPACTO   \n\n                                            fiscalia agencia  \\\n0                        INVESTIGACIÓN EN CUAUHTEMOC   CUH-8   \n1                 INVESTIGACIÓN EN GUSTAVO A. MADERO   GAM-4   \n2                        INVESTIGACIÓN EN IZTAPALAPA   IZP-8   \n3  INVESTIGACIÓN PARA LA ATENCIÓN DE NIÑOS, NIÑAS...      59   \n4                         INVESTIGACIÓN EN IZTACALCO   IZC-2   \n\n  unidad_investigacion      alcaldia_hechos        colonia_hechos  ao_inicio  \\\n0               UI-3CD           CUAUHTEMOC   AMPLIACIÓN ASTURIAS       2016   \n1               UI-2CD     GUSTAVO A MADERO            LINDAVISTA       2016   \n2               UI-3CD           IZTAPALAPA       PARAJE SAN JUAN       2016   \n3               UI-3CD  VENUSTIANO CARRANZA      LORENZO BOTURINI       2016   \n4               UI-3SD            IZTACALCO  GABRIEL RAMOS MILLÁN       2016   \n\n  mes_inicio         fecha_inicio                        calle_hechos  \\\n0      Enero  2016-01-07 15:23:35                             OTE. 69   \n1      Enero  2016-01-07 15:30:40                  AVENIDA MONTEVIDEO   \n2      Enero  2016-01-07 15:31:44  CAMINO VIEJO REAL DE SAN FRANCISCO   \n3      Enero  2016-01-07 15:35:29                    LORENZO BOTURINI   \n4      Enero  2016-01-07 15:35:38                       ORIENTE 100 A   \n\n               calle_hechos2   longitud    latitud                  geopoint  \n0                        NaN -99.129895  19.406097  19.4060969998,-99.129895  \n1            CALZADA VALLEJO -99.135347  19.491183  19.4911829998,-99.135347  \n2  AV. INSGTE. EUGENIO GIRON -99.065453  19.339127  19.3391269998,-99.065453  \n3                        NaN -99.127070  19.417356   19.4173559998,-99.12707  \n4                        NaN -99.103084  19.391399  19.3913989998,-99.103084  ",
      "text/html": "<div>\n<style scoped>\n    .dataframe tbody tr th:only-of-type {\n        vertical-align: middle;\n    }\n\n    .dataframe tbody tr th {\n        vertical-align: top;\n    }\n\n    .dataframe thead th {\n        text-align: right;\n    }\n</style>\n<table border=\"1\" class=\"dataframe\">\n  <thead>\n    <tr style=\"text-align: right;\">\n      <th></th>\n      <th>ao_hechos</th>\n      <th>mes_hechos</th>\n      <th>fecha_hechos</th>\n      <th>delito</th>\n      <th>categoria_delito</th>\n      <th>fiscalia</th>\n      <th>agencia</th>\n      <th>unidad_investigacion</th>\n      <th>alcaldia_hechos</th>\n      <th>colonia_hechos</th>\n      <th>ao_inicio</th>\n      <th>mes_inicio</th>\n      <th>fecha_inicio</th>\n      <th>calle_hechos</th>\n      <th>calle_hechos2</th>\n      <th>longitud</th>\n      <th>latitud</th>\n      <th>geopoint</th>\n    </tr>\n  </thead>\n  <tbody>\n    <tr>\n      <td>0</td>\n      <td>2016.0</td>\n      <td>Enero</td>\n      <td>2016-01-06 00:00:00</td>\n      <td>ROBO A CASA HABITACION SIN VIOLENCIA</td>\n      <td>DELITO DE BAJO IMPACTO</td>\n      <td>INVESTIGACIÓN EN CUAUHTEMOC</td>\n      <td>CUH-8</td>\n      <td>UI-3CD</td>\n      <td>CUAUHTEMOC</td>\n      <td>AMPLIACIÓN ASTURIAS</td>\n      <td>2016</td>\n      <td>Enero</td>\n      <td>2016-01-07 15:23:35</td>\n      <td>OTE. 69</td>\n      <td>NaN</td>\n      <td>-99.129895</td>\n      <td>19.406097</td>\n      <td>19.4060969998,-99.129895</td>\n    </tr>\n    <tr>\n      <td>1</td>\n      <td>2016.0</td>\n      <td>Enero</td>\n      <td>2016-01-07 13:00:00</td>\n      <td>ROBO A TRANSEUNTE DE CELULAR CON VIOLENCIA</td>\n      <td>DELITO DE BAJO IMPACTO</td>\n      <td>INVESTIGACIÓN EN GUSTAVO A. MADERO</td>\n      <td>GAM-4</td>\n      <td>UI-2CD</td>\n      <td>GUSTAVO A MADERO</td>\n      <td>LINDAVISTA</td>\n      <td>2016</td>\n      <td>Enero</td>\n      <td>2016-01-07 15:30:40</td>\n      <td>AVENIDA MONTEVIDEO</td>\n      <td>CALZADA VALLEJO</td>\n      <td>-99.135347</td>\n      <td>19.491183</td>\n      <td>19.4911829998,-99.135347</td>\n    </tr>\n    <tr>\n      <td>2</td>\n      <td>2016.0</td>\n      <td>Enero</td>\n      <td>2016-01-07 12:10:00</td>\n      <td>VIOLENCIA FAMILIAR</td>\n      <td>DELITO DE BAJO IMPACTO</td>\n      <td>INVESTIGACIÓN EN IZTAPALAPA</td>\n      <td>IZP-8</td>\n      <td>UI-3CD</td>\n      <td>IZTAPALAPA</td>\n      <td>PARAJE SAN JUAN</td>\n      <td>2016</td>\n      <td>Enero</td>\n      <td>2016-01-07 15:31:44</td>\n      <td>CAMINO VIEJO REAL DE SAN FRANCISCO</td>\n      <td>AV. INSGTE. EUGENIO GIRON</td>\n      <td>-99.065453</td>\n      <td>19.339127</td>\n      <td>19.3391269998,-99.065453</td>\n    </tr>\n    <tr>\n      <td>3</td>\n      <td>2015.0</td>\n      <td>Diciembre</td>\n      <td>2015-12-27 19:30:00</td>\n      <td>LESIONES CULPOSAS POR CAIDA</td>\n      <td>DELITO DE BAJO IMPACTO</td>\n      <td>INVESTIGACIÓN PARA LA ATENCIÓN DE NIÑOS, NIÑAS...</td>\n      <td>59</td>\n      <td>UI-3CD</td>\n      <td>VENUSTIANO CARRANZA</td>\n      <td>LORENZO BOTURINI</td>\n      <td>2016</td>\n      <td>Enero</td>\n      <td>2016-01-07 15:35:29</td>\n      <td>LORENZO BOTURINI</td>\n      <td>NaN</td>\n      <td>-99.127070</td>\n      <td>19.417356</td>\n      <td>19.4173559998,-99.12707</td>\n    </tr>\n    <tr>\n      <td>4</td>\n      <td>2015.0</td>\n      <td>Diciembre</td>\n      <td>2015-12-10 20:00:00</td>\n      <td>ROBO A TRANSEUNTE DE CELULAR CON VIOLENCIA</td>\n      <td>DELITO DE BAJO IMPACTO</td>\n      <td>INVESTIGACIÓN EN IZTACALCO</td>\n      <td>IZC-2</td>\n      <td>UI-3SD</td>\n      <td>IZTACALCO</td>\n      <td>GABRIEL RAMOS MILLÁN</td>\n      <td>2016</td>\n      <td>Enero</td>\n      <td>2016-01-07 15:35:38</td>\n      <td>ORIENTE 100 A</td>\n      <td>NaN</td>\n      <td>-99.103084</td>\n      <td>19.391399</td>\n      <td>19.3913989998,-99.103084</td>\n    </tr>\n  </tbody>\n</table>\n</div>"
     },
     "metadata": {},
     "execution_count": 1
    }
   ],
   "source": [
    "# dependencies\n",
    "\n",
    "import pandas as pd\n",
    "import numpy as np\n",
    "\n",
    "\n",
    "# defining the url of the data\n",
    "\n",
    "url = 'data/carpetas-de-investigacion-pgj-de-la-ciudad-de-mexico.csv'\n",
    "# loading the data \n",
    "\n",
    "delitos = pd.read_csv(url)\n",
    "delitos.head()"
   ]
  },
  {
   "cell_type": "code",
   "execution_count": 2,
   "metadata": {},
   "outputs": [
    {
     "output_type": "execute_result",
     "data": {
      "text/plain": "ao_hechos               float64\nmes_hechos               object\nfecha_hechos             object\ndelito                   object\ncategoria_delito         object\nfiscalia                 object\nagencia                  object\nunidad_investigacion     object\nalcaldia_hechos          object\ncolonia_hechos           object\nao_inicio                 int64\nmes_inicio               object\nfecha_inicio             object\ncalle_hechos             object\ncalle_hechos2            object\nlongitud                float64\nlatitud                 float64\ngeopoint                 object\ndtype: object"
     },
     "metadata": {},
     "execution_count": 2
    }
   ],
   "source": [
    "# determining for the information the type of data\n",
    "delitos.dtypes"
   ]
  },
  {
   "cell_type": "markdown",
   "metadata": {},
   "source": [
    "### 2) ¿Cuántos delitos registrados hay en la tabla? ¿Qué rango de tiempo consideran los datos?"
   ]
  },
  {
   "cell_type": "code",
   "execution_count": 3,
   "metadata": {
    "tags": []
   },
   "outputs": [
    {
     "output_type": "stream",
     "name": "stdout",
     "text": "Hay 1,064,063 registros,los cuales están comprendidos entre los años 2016 y 2020\n"
    }
   ],
   "source": [
    "# determining the values of the variables\n",
    "registros_totales = len(delitos.index)\n",
    "min_ao = min(delitos['ao_inicio'])\n",
    "max_ao = max(delitos['ao_inicio'])\n",
    "\n",
    "print(f'Hay {registros_totales:,d} registros,los cuales están comprendidos entre los años {min_ao} y {max_ao}')"
   ]
  },
  {
   "cell_type": "markdown",
   "metadata": {},
   "source": [
    "### 3) ¿Cómo se distribuye el número de delitos en la CDMX? ¿Cuáles son los 5 delitos más frecuentes?"
   ]
  },
  {
   "cell_type": "code",
   "execution_count": 21,
   "metadata": {},
   "outputs": [],
   "source": [
    "url2 = 'data/alcaldias.csv'\n",
    "alcaldias = pd.read_csv(url2)"
   ]
  },
  {
   "cell_type": "code",
   "execution_count": 5,
   "metadata": {},
   "outputs": [
    {
     "output_type": "execute_result",
     "data": {
      "text/plain": "         ao_hechos mes_hechos         fecha_hechos  \\\n0           2016.0      Enero  2016-01-06 00:00:00   \n1           2016.0      Enero  2016-01-07 13:00:00   \n2           2016.0      Enero  2016-01-07 12:10:00   \n3           2015.0  Diciembre  2015-12-27 19:30:00   \n4           2015.0  Diciembre  2015-12-10 20:00:00   \n...            ...        ...                  ...   \n1064058     2020.0     Agosto  2020-08-16 21:20:00   \n1064059     2020.0     Agosto  2020-08-17 16:50:00   \n1064060     2020.0     Agosto  2020-08-17 14:00:00   \n1064061     2020.0     Agosto  2020-08-16 15:00:00   \n1064062     2020.0     Agosto  2020-08-17 17:10:00   \n\n                                                    delito  \\\n0                     ROBO A CASA HABITACION SIN VIOLENCIA   \n1               ROBO A TRANSEUNTE DE CELULAR CON VIOLENCIA   \n2                                       VIOLENCIA FAMILIAR   \n3                              LESIONES CULPOSAS POR CAIDA   \n4               ROBO A TRANSEUNTE DE CELULAR CON VIOLENCIA   \n...                                                    ...   \n1064058  ROBO A NEGOCIO SIN VIOLENCIA POR FARDEROS (TIE...   \n1064059                  ROBO DE MOTOCICLETA SIN VIOLENCIA   \n1064060                                           AMENAZAS   \n1064061  ROBO DE VEHICULO DE SERVICIO PÚBLICO CON VIOLE...   \n1064062  DAÑO EN PROPIEDAD AJENA CULPOSA POR TRÁNSITO V...   \n\n                             categoria_delito  \\\n0                      DELITO DE BAJO IMPACTO   \n1                      DELITO DE BAJO IMPACTO   \n2                      DELITO DE BAJO IMPACTO   \n3                      DELITO DE BAJO IMPACTO   \n4                      DELITO DE BAJO IMPACTO   \n...                                       ...   \n1064058                DELITO DE BAJO IMPACTO   \n1064059  ROBO DE VEHÍCULO CON Y SIN VIOLENCIA   \n1064060                DELITO DE BAJO IMPACTO   \n1064061  ROBO DE VEHÍCULO CON Y SIN VIOLENCIA   \n1064062                DELITO DE BAJO IMPACTO   \n\n                                                  fiscalia agencia  \\\n0                              INVESTIGACIÓN EN CUAUHTEMOC   CUH-8   \n1                       INVESTIGACIÓN EN GUSTAVO A. MADERO   GAM-4   \n2                              INVESTIGACIÓN EN IZTAPALAPA   IZP-8   \n3        INVESTIGACIÓN PARA LA ATENCIÓN DE NIÑOS, NIÑAS...      59   \n4                               INVESTIGACIÓN EN IZTACALCO   IZC-2   \n...                                                    ...     ...   \n1064058  FISCALÍA DE INVESTIGACIÓN TERRITORIAL EN CUAUH...   CUH-5   \n1064059  FISCALÍA DE INVESTIGACIÓN TERRITORIAL EN COYOACÁN   COY-1   \n1064060  FISCALÍA DE INVESTIGACIÓN TERRITORIAL EN MIGUE...    MH-4   \n1064061  FISCALÍA DE INVESTIGACIÓN TERRITORIAL EN IZTAP...   IZP-5   \n1064062  FISCALÍA DE INVESTIGACIÓN TERRITORIAL EN AZCAP...    AZ-4   \n\n        unidad_investigacion      alcaldia_hechos  \\\n0                     UI-3CD           CUAUHTEMOC   \n1                     UI-2CD     GUSTAVO A MADERO   \n2                     UI-3CD           IZTAPALAPA   \n3                     UI-3CD  VENUSTIANO CARRANZA   \n4                     UI-3SD            IZTACALCO   \n...                      ...                  ...   \n1064058               UI-1SD           CUAUHTEMOC   \n1064059               UI-1CD             COYOACAN   \n1064060               UI-1SD       ALVARO OBREGON   \n1064061               UI-1CD           IZTAPALAPA   \n1064062               UI-1SD         AZCAPOTZALCO   \n\n                               colonia_hechos  ao_inicio mes_inicio  \\\n0                         AMPLIACIÓN ASTURIAS       2016      Enero   \n1                                  LINDAVISTA       2016      Enero   \n2                             PARAJE SAN JUAN       2016      Enero   \n3                            LORENZO BOTURINI       2016      Enero   \n4                        GABRIEL RAMOS MILLÁN       2016      Enero   \n...                                       ...        ...        ...   \n1064058                                JUÁREZ       2020     Agosto   \n1064059                                AJUSCO       2020     Agosto   \n1064060  BELEN DE LAS FLORES SECCION CUCHILLA       2020     Agosto   \n1064061                       FRANCISCO VILLA       2020     Agosto   \n1064062                           PROVIDENCIA       2020     Agosto   \n\n                fecha_inicio                        calle_hechos  \\\n0        2016-01-07 15:23:35                             OTE. 69   \n1        2016-01-07 15:30:40                  AVENIDA MONTEVIDEO   \n2        2016-01-07 15:31:44  CAMINO VIEJO REAL DE SAN FRANCISCO   \n3        2016-01-07 15:35:29                    LORENZO BOTURINI   \n4        2016-01-07 15:35:38                       ORIENTE 100 A   \n...                      ...                                 ...   \n1064058  2020-08-17 20:44:56                           BARCELONA   \n1064059  2020-08-17 20:48:39                            TOLTECAS   \n1064060  2020-08-17 21:00:06                            EL ROSAL   \n1064061  2020-08-17 21:10:50                      PASO DEL NORTE   \n1064062  2020-08-17 22:02:27                  CALZADA SAN ISIDRO   \n\n                     calle_hechos2   longitud    latitud  \\\n0                              NaN -99.129895  19.406097   \n1                  CALZADA VALLEJO -99.135347  19.491183   \n2        AV. INSGTE. EUGENIO GIRON -99.065453  19.339127   \n3                              NaN -99.127070  19.417356   \n4                              NaN -99.103084  19.391399   \n...                            ...        ...        ...   \n1064058                        NaN -99.154650  19.428161   \n1064059                        NaN -99.158371  19.328438   \n1064060                        NaN -99.212492  19.398333   \n1064061             FELIPE ANGELES -99.059705  19.337273   \n1064062                        NaN -99.213683  19.486365   \n\n                             geopoint  \n0            19.4060969998,-99.129895  \n1            19.4911829998,-99.135347  \n2            19.3391269998,-99.065453  \n3             19.4173559998,-99.12707  \n4            19.3913989998,-99.103084  \n...                               ...  \n1064058  19.4281608402,-99.1546502693  \n1064059  19.3284382981,-99.1583708001  \n1064060  19.3983328014,-99.2124920001  \n1064061  19.3372727024,-99.0597048997  \n1064062  19.4863646389,-99.2136830939  \n\n[1053035 rows x 18 columns]",
      "text/html": "<div>\n<style scoped>\n    .dataframe tbody tr th:only-of-type {\n        vertical-align: middle;\n    }\n\n    .dataframe tbody tr th {\n        vertical-align: top;\n    }\n\n    .dataframe thead th {\n        text-align: right;\n    }\n</style>\n<table border=\"1\" class=\"dataframe\">\n  <thead>\n    <tr style=\"text-align: right;\">\n      <th></th>\n      <th>ao_hechos</th>\n      <th>mes_hechos</th>\n      <th>fecha_hechos</th>\n      <th>delito</th>\n      <th>categoria_delito</th>\n      <th>fiscalia</th>\n      <th>agencia</th>\n      <th>unidad_investigacion</th>\n      <th>alcaldia_hechos</th>\n      <th>colonia_hechos</th>\n      <th>ao_inicio</th>\n      <th>mes_inicio</th>\n      <th>fecha_inicio</th>\n      <th>calle_hechos</th>\n      <th>calle_hechos2</th>\n      <th>longitud</th>\n      <th>latitud</th>\n      <th>geopoint</th>\n    </tr>\n  </thead>\n  <tbody>\n    <tr>\n      <td>0</td>\n      <td>2016.0</td>\n      <td>Enero</td>\n      <td>2016-01-06 00:00:00</td>\n      <td>ROBO A CASA HABITACION SIN VIOLENCIA</td>\n      <td>DELITO DE BAJO IMPACTO</td>\n      <td>INVESTIGACIÓN EN CUAUHTEMOC</td>\n      <td>CUH-8</td>\n      <td>UI-3CD</td>\n      <td>CUAUHTEMOC</td>\n      <td>AMPLIACIÓN ASTURIAS</td>\n      <td>2016</td>\n      <td>Enero</td>\n      <td>2016-01-07 15:23:35</td>\n      <td>OTE. 69</td>\n      <td>NaN</td>\n      <td>-99.129895</td>\n      <td>19.406097</td>\n      <td>19.4060969998,-99.129895</td>\n    </tr>\n    <tr>\n      <td>1</td>\n      <td>2016.0</td>\n      <td>Enero</td>\n      <td>2016-01-07 13:00:00</td>\n      <td>ROBO A TRANSEUNTE DE CELULAR CON VIOLENCIA</td>\n      <td>DELITO DE BAJO IMPACTO</td>\n      <td>INVESTIGACIÓN EN GUSTAVO A. MADERO</td>\n      <td>GAM-4</td>\n      <td>UI-2CD</td>\n      <td>GUSTAVO A MADERO</td>\n      <td>LINDAVISTA</td>\n      <td>2016</td>\n      <td>Enero</td>\n      <td>2016-01-07 15:30:40</td>\n      <td>AVENIDA MONTEVIDEO</td>\n      <td>CALZADA VALLEJO</td>\n      <td>-99.135347</td>\n      <td>19.491183</td>\n      <td>19.4911829998,-99.135347</td>\n    </tr>\n    <tr>\n      <td>2</td>\n      <td>2016.0</td>\n      <td>Enero</td>\n      <td>2016-01-07 12:10:00</td>\n      <td>VIOLENCIA FAMILIAR</td>\n      <td>DELITO DE BAJO IMPACTO</td>\n      <td>INVESTIGACIÓN EN IZTAPALAPA</td>\n      <td>IZP-8</td>\n      <td>UI-3CD</td>\n      <td>IZTAPALAPA</td>\n      <td>PARAJE SAN JUAN</td>\n      <td>2016</td>\n      <td>Enero</td>\n      <td>2016-01-07 15:31:44</td>\n      <td>CAMINO VIEJO REAL DE SAN FRANCISCO</td>\n      <td>AV. INSGTE. EUGENIO GIRON</td>\n      <td>-99.065453</td>\n      <td>19.339127</td>\n      <td>19.3391269998,-99.065453</td>\n    </tr>\n    <tr>\n      <td>3</td>\n      <td>2015.0</td>\n      <td>Diciembre</td>\n      <td>2015-12-27 19:30:00</td>\n      <td>LESIONES CULPOSAS POR CAIDA</td>\n      <td>DELITO DE BAJO IMPACTO</td>\n      <td>INVESTIGACIÓN PARA LA ATENCIÓN DE NIÑOS, NIÑAS...</td>\n      <td>59</td>\n      <td>UI-3CD</td>\n      <td>VENUSTIANO CARRANZA</td>\n      <td>LORENZO BOTURINI</td>\n      <td>2016</td>\n      <td>Enero</td>\n      <td>2016-01-07 15:35:29</td>\n      <td>LORENZO BOTURINI</td>\n      <td>NaN</td>\n      <td>-99.127070</td>\n      <td>19.417356</td>\n      <td>19.4173559998,-99.12707</td>\n    </tr>\n    <tr>\n      <td>4</td>\n      <td>2015.0</td>\n      <td>Diciembre</td>\n      <td>2015-12-10 20:00:00</td>\n      <td>ROBO A TRANSEUNTE DE CELULAR CON VIOLENCIA</td>\n      <td>DELITO DE BAJO IMPACTO</td>\n      <td>INVESTIGACIÓN EN IZTACALCO</td>\n      <td>IZC-2</td>\n      <td>UI-3SD</td>\n      <td>IZTACALCO</td>\n      <td>GABRIEL RAMOS MILLÁN</td>\n      <td>2016</td>\n      <td>Enero</td>\n      <td>2016-01-07 15:35:38</td>\n      <td>ORIENTE 100 A</td>\n      <td>NaN</td>\n      <td>-99.103084</td>\n      <td>19.391399</td>\n      <td>19.3913989998,-99.103084</td>\n    </tr>\n    <tr>\n      <td>...</td>\n      <td>...</td>\n      <td>...</td>\n      <td>...</td>\n      <td>...</td>\n      <td>...</td>\n      <td>...</td>\n      <td>...</td>\n      <td>...</td>\n      <td>...</td>\n      <td>...</td>\n      <td>...</td>\n      <td>...</td>\n      <td>...</td>\n      <td>...</td>\n      <td>...</td>\n      <td>...</td>\n      <td>...</td>\n      <td>...</td>\n    </tr>\n    <tr>\n      <td>1064058</td>\n      <td>2020.0</td>\n      <td>Agosto</td>\n      <td>2020-08-16 21:20:00</td>\n      <td>ROBO A NEGOCIO SIN VIOLENCIA POR FARDEROS (TIE...</td>\n      <td>DELITO DE BAJO IMPACTO</td>\n      <td>FISCALÍA DE INVESTIGACIÓN TERRITORIAL EN CUAUH...</td>\n      <td>CUH-5</td>\n      <td>UI-1SD</td>\n      <td>CUAUHTEMOC</td>\n      <td>JUÁREZ</td>\n      <td>2020</td>\n      <td>Agosto</td>\n      <td>2020-08-17 20:44:56</td>\n      <td>BARCELONA</td>\n      <td>NaN</td>\n      <td>-99.154650</td>\n      <td>19.428161</td>\n      <td>19.4281608402,-99.1546502693</td>\n    </tr>\n    <tr>\n      <td>1064059</td>\n      <td>2020.0</td>\n      <td>Agosto</td>\n      <td>2020-08-17 16:50:00</td>\n      <td>ROBO DE MOTOCICLETA SIN VIOLENCIA</td>\n      <td>ROBO DE VEHÍCULO CON Y SIN VIOLENCIA</td>\n      <td>FISCALÍA DE INVESTIGACIÓN TERRITORIAL EN COYOACÁN</td>\n      <td>COY-1</td>\n      <td>UI-1CD</td>\n      <td>COYOACAN</td>\n      <td>AJUSCO</td>\n      <td>2020</td>\n      <td>Agosto</td>\n      <td>2020-08-17 20:48:39</td>\n      <td>TOLTECAS</td>\n      <td>NaN</td>\n      <td>-99.158371</td>\n      <td>19.328438</td>\n      <td>19.3284382981,-99.1583708001</td>\n    </tr>\n    <tr>\n      <td>1064060</td>\n      <td>2020.0</td>\n      <td>Agosto</td>\n      <td>2020-08-17 14:00:00</td>\n      <td>AMENAZAS</td>\n      <td>DELITO DE BAJO IMPACTO</td>\n      <td>FISCALÍA DE INVESTIGACIÓN TERRITORIAL EN MIGUE...</td>\n      <td>MH-4</td>\n      <td>UI-1SD</td>\n      <td>ALVARO OBREGON</td>\n      <td>BELEN DE LAS FLORES SECCION CUCHILLA</td>\n      <td>2020</td>\n      <td>Agosto</td>\n      <td>2020-08-17 21:00:06</td>\n      <td>EL ROSAL</td>\n      <td>NaN</td>\n      <td>-99.212492</td>\n      <td>19.398333</td>\n      <td>19.3983328014,-99.2124920001</td>\n    </tr>\n    <tr>\n      <td>1064061</td>\n      <td>2020.0</td>\n      <td>Agosto</td>\n      <td>2020-08-16 15:00:00</td>\n      <td>ROBO DE VEHICULO DE SERVICIO PÚBLICO CON VIOLE...</td>\n      <td>ROBO DE VEHÍCULO CON Y SIN VIOLENCIA</td>\n      <td>FISCALÍA DE INVESTIGACIÓN TERRITORIAL EN IZTAP...</td>\n      <td>IZP-5</td>\n      <td>UI-1CD</td>\n      <td>IZTAPALAPA</td>\n      <td>FRANCISCO VILLA</td>\n      <td>2020</td>\n      <td>Agosto</td>\n      <td>2020-08-17 21:10:50</td>\n      <td>PASO DEL NORTE</td>\n      <td>FELIPE ANGELES</td>\n      <td>-99.059705</td>\n      <td>19.337273</td>\n      <td>19.3372727024,-99.0597048997</td>\n    </tr>\n    <tr>\n      <td>1064062</td>\n      <td>2020.0</td>\n      <td>Agosto</td>\n      <td>2020-08-17 17:10:00</td>\n      <td>DAÑO EN PROPIEDAD AJENA CULPOSA POR TRÁNSITO V...</td>\n      <td>DELITO DE BAJO IMPACTO</td>\n      <td>FISCALÍA DE INVESTIGACIÓN TERRITORIAL EN AZCAP...</td>\n      <td>AZ-4</td>\n      <td>UI-1SD</td>\n      <td>AZCAPOTZALCO</td>\n      <td>PROVIDENCIA</td>\n      <td>2020</td>\n      <td>Agosto</td>\n      <td>2020-08-17 22:02:27</td>\n      <td>CALZADA SAN ISIDRO</td>\n      <td>NaN</td>\n      <td>-99.213683</td>\n      <td>19.486365</td>\n      <td>19.4863646389,-99.2136830939</td>\n    </tr>\n  </tbody>\n</table>\n<p>1053035 rows × 18 columns</p>\n</div>"
     },
     "metadata": {},
     "execution_count": 5
    }
   ],
   "source": [
    "delitos_cdmx = delitos[delitos['alcaldia_hechos'].isin(alcaldias['Alcaldias'].tolist())] \n",
    "delitos_cdmx.head()"
   ]
  },
  {
   "cell_type": "code",
   "execution_count": 6,
   "metadata": {},
   "outputs": [],
   "source": [
    "delitos_frecuentes = delitos_cdmx.groupby(['delito']).agg(conteo = ('delito','count')).sort_values(by=['conteo'],ascending=False)"
   ]
  },
  {
   "cell_type": "code",
   "execution_count": 7,
   "metadata": {
    "tags": []
   },
   "outputs": [
    {
     "output_type": "stream",
     "name": "stdout",
     "text": "Los delitos más frecuentes de la CDMX son:\n"
    },
    {
     "output_type": "execute_result",
     "data": {
      "text/plain": "                                                conteo\ndelito                                                \nVIOLENCIA FAMILIAR                              100231\nROBO A NEGOCIO SIN VIOLENCIA                     64320\nROBO DE OBJETOS                                  63889\nFRAUDE                                           61502\nROBO A TRANSEUNTE EN VIA PUBLICA CON VIOLENCIA   54243",
      "text/html": "<div>\n<style scoped>\n    .dataframe tbody tr th:only-of-type {\n        vertical-align: middle;\n    }\n\n    .dataframe tbody tr th {\n        vertical-align: top;\n    }\n\n    .dataframe thead th {\n        text-align: right;\n    }\n</style>\n<table border=\"1\" class=\"dataframe\">\n  <thead>\n    <tr style=\"text-align: right;\">\n      <th></th>\n      <th>conteo</th>\n    </tr>\n    <tr>\n      <th>delito</th>\n      <th></th>\n    </tr>\n  </thead>\n  <tbody>\n    <tr>\n      <td>VIOLENCIA FAMILIAR</td>\n      <td>100231</td>\n    </tr>\n    <tr>\n      <td>ROBO A NEGOCIO SIN VIOLENCIA</td>\n      <td>64320</td>\n    </tr>\n    <tr>\n      <td>ROBO DE OBJETOS</td>\n      <td>63889</td>\n    </tr>\n    <tr>\n      <td>FRAUDE</td>\n      <td>61502</td>\n    </tr>\n    <tr>\n      <td>ROBO A TRANSEUNTE EN VIA PUBLICA CON VIOLENCIA</td>\n      <td>54243</td>\n    </tr>\n  </tbody>\n</table>\n</div>"
     },
     "metadata": {},
     "execution_count": 7
    }
   ],
   "source": [
    "print('Los delitos más frecuentes de la CDMX son:')\n",
    "delitos_frecuentes.head()"
   ]
  },
  {
   "cell_type": "markdown",
   "metadata": {},
   "source": [
    "### 4) Identifica los delitos que van a la alza y a la baja en la CDMX en el último año (ten cuidado con los delitos con pocas ocurrencias)."
   ]
  },
  {
   "cell_type": "code",
   "execution_count": 8,
   "metadata": {},
   "outputs": [],
   "source": [
    "# selecting the years 2019 and 2020, grouping the data by delitos and ao_inicio, in order to know how many incidents have occurred\n",
    "analisis_delitos = delitos_cdmx[delitos_cdmx['ao_inicio']>=2019].groupby(['delito','ao_inicio']).agg(conteo = ('delito','count')).unstack()\n",
    "analisis_delitos.reset_index(inplace = True)"
   ]
  },
  {
   "cell_type": "code",
   "execution_count": 9,
   "metadata": {},
   "outputs": [],
   "source": [
    "# creating a column to store the result of the comparative between the crimes in the two years\n",
    "analisis_delitos['estatus'] = ''"
   ]
  },
  {
   "cell_type": "code",
   "execution_count": 10,
   "metadata": {},
   "outputs": [],
   "source": [
    "# in order to make a better analysis the NaN are replaced for 0, taking into consideration that the NaN is the absence of information\n",
    "analisis_delitos.fillna(0,inplace =True)"
   ]
  },
  {
   "cell_type": "code",
   "execution_count": 11,
   "metadata": {},
   "outputs": [],
   "source": [
    "# making a comparation between the two years (2019, 2020) and applying the following rules:\n",
    "# if the counting from the previous year is higher than the current, the crimes are decreacing\n",
    "# otherwise the crimes are increacing\n",
    "# when the crimes reamain the same it is considerated as decreacing value\n",
    "analisis_delitos['estatus'] = np.where((analisis_delitos['conteo'][2019]>=analisis_delitos['conteo'][2020]),\"baja\",\"alza\")"
   ]
  },
  {
   "cell_type": "code",
   "execution_count": 12,
   "metadata": {},
   "outputs": [
    {
     "output_type": "execute_result",
     "data": {
      "text/plain": "                                                      delito conteo         \\\nao_inicio                                                      2019   2020   \n5                 ACOSO SEXUAL AGRAVADO EN CONTRA DE MENORES    0.0   83.0   \n8          ATAQUE A LAS VIAS DE COMUNICACION (DAÃ‘O A VIA...    0.0    3.0   \n10              ATAQUE A LAS VIAS GENERALES DE COMUNICACIÃ“N    0.0    6.0   \n14                                    CAMBIO DE USO DE SUELO    6.0   29.0   \n20                                  CONTAMINACIÓN O RESIDUOS    7.0   26.0   \n..                                                       ...    ...    ...   \n293                                   SUSTRACCIÓN DE MENORES    0.0  101.0   \n294                                                     TALA    6.0   22.0   \n296                                 TENTATIVA DE FEMINICIDIO    0.0    7.0   \n310                                 USURPACIÃ“N DE IDENTIDAD    0.0  319.0   \n316                                VIOLACION DE LA INTIMIDAD    0.0    3.0   \n\n          estatus  \nao_inicio          \n5            alza  \n8            alza  \n10           alza  \n14           alza  \n20           alza  \n..            ...  \n293          alza  \n294          alza  \n296          alza  \n310          alza  \n316          alza  \n\n[85 rows x 4 columns]",
      "text/html": "<div>\n<style scoped>\n    .dataframe tbody tr th:only-of-type {\n        vertical-align: middle;\n    }\n\n    .dataframe tbody tr th {\n        vertical-align: top;\n    }\n\n    .dataframe thead tr th {\n        text-align: left;\n    }\n</style>\n<table border=\"1\" class=\"dataframe\">\n  <thead>\n    <tr>\n      <th></th>\n      <th>delito</th>\n      <th colspan=\"2\" halign=\"left\">conteo</th>\n      <th>estatus</th>\n    </tr>\n    <tr>\n      <th>ao_inicio</th>\n      <th></th>\n      <th>2019</th>\n      <th>2020</th>\n      <th></th>\n    </tr>\n  </thead>\n  <tbody>\n    <tr>\n      <td>5</td>\n      <td>ACOSO SEXUAL AGRAVADO EN CONTRA DE MENORES</td>\n      <td>0.0</td>\n      <td>83.0</td>\n      <td>alza</td>\n    </tr>\n    <tr>\n      <td>8</td>\n      <td>ATAQUE A LAS VIAS DE COMUNICACION (DAÃ‘O A VIA...</td>\n      <td>0.0</td>\n      <td>3.0</td>\n      <td>alza</td>\n    </tr>\n    <tr>\n      <td>10</td>\n      <td>ATAQUE A LAS VIAS GENERALES DE COMUNICACIÃ“N</td>\n      <td>0.0</td>\n      <td>6.0</td>\n      <td>alza</td>\n    </tr>\n    <tr>\n      <td>14</td>\n      <td>CAMBIO DE USO DE SUELO</td>\n      <td>6.0</td>\n      <td>29.0</td>\n      <td>alza</td>\n    </tr>\n    <tr>\n      <td>20</td>\n      <td>CONTAMINACIÓN O RESIDUOS</td>\n      <td>7.0</td>\n      <td>26.0</td>\n      <td>alza</td>\n    </tr>\n    <tr>\n      <td>...</td>\n      <td>...</td>\n      <td>...</td>\n      <td>...</td>\n      <td>...</td>\n    </tr>\n    <tr>\n      <td>293</td>\n      <td>SUSTRACCIÓN DE MENORES</td>\n      <td>0.0</td>\n      <td>101.0</td>\n      <td>alza</td>\n    </tr>\n    <tr>\n      <td>294</td>\n      <td>TALA</td>\n      <td>6.0</td>\n      <td>22.0</td>\n      <td>alza</td>\n    </tr>\n    <tr>\n      <td>296</td>\n      <td>TENTATIVA DE FEMINICIDIO</td>\n      <td>0.0</td>\n      <td>7.0</td>\n      <td>alza</td>\n    </tr>\n    <tr>\n      <td>310</td>\n      <td>USURPACIÃ“N DE IDENTIDAD</td>\n      <td>0.0</td>\n      <td>319.0</td>\n      <td>alza</td>\n    </tr>\n    <tr>\n      <td>316</td>\n      <td>VIOLACION DE LA INTIMIDAD</td>\n      <td>0.0</td>\n      <td>3.0</td>\n      <td>alza</td>\n    </tr>\n  </tbody>\n</table>\n<p>85 rows × 4 columns</p>\n</div>"
     },
     "metadata": {},
     "execution_count": 12
    }
   ],
   "source": [
    "analisis_delitos[analisis_delitos['estatus']=='alza']"
   ]
  },
  {
   "cell_type": "code",
   "execution_count": 13,
   "metadata": {},
   "outputs": [
    {
     "output_type": "execute_result",
     "data": {
      "text/plain": "                                                      delito   conteo  \\\nao_inicio                                                        2019   \n0                                                     ABORTO    132.0   \n1          ABUSO DE AUTORIDAD Y USO ILEGAL DE LA FUERZA P...   2181.0   \n2                                         ABUSO DE CONFIANZA   4032.0   \n3                                               ABUSO SEXUAL   4053.0   \n4                                               ACOSO SEXUAL    946.0   \n..                                                       ...      ...   \n319                  VIOLACION EQUIPARADA Y ROBO DE VEHICULO      4.0   \n320                                    VIOLACION TUMULTUARIA     36.0   \n321                         VIOLACION TUMULTUARIA EQUIPARADA      1.0   \n322            VIOLACION TUMULTUARIA EQUIPARADA POR CONOCIDO      3.0   \n323                                       VIOLENCIA FAMILIAR  25776.0   \n\n                   estatus  \nao_inicio     2020          \n0             57.0    baja  \n1           1334.0    baja  \n2           2460.0    baja  \n3           2075.0    baja  \n4            636.0    baja  \n..             ...     ...  \n319            2.0    baja  \n320           21.0    baja  \n321            0.0    baja  \n322            0.0    baja  \n323        17529.0    baja  \n\n[239 rows x 4 columns]",
      "text/html": "<div>\n<style scoped>\n    .dataframe tbody tr th:only-of-type {\n        vertical-align: middle;\n    }\n\n    .dataframe tbody tr th {\n        vertical-align: top;\n    }\n\n    .dataframe thead tr th {\n        text-align: left;\n    }\n</style>\n<table border=\"1\" class=\"dataframe\">\n  <thead>\n    <tr>\n      <th></th>\n      <th>delito</th>\n      <th colspan=\"2\" halign=\"left\">conteo</th>\n      <th>estatus</th>\n    </tr>\n    <tr>\n      <th>ao_inicio</th>\n      <th></th>\n      <th>2019</th>\n      <th>2020</th>\n      <th></th>\n    </tr>\n  </thead>\n  <tbody>\n    <tr>\n      <td>0</td>\n      <td>ABORTO</td>\n      <td>132.0</td>\n      <td>57.0</td>\n      <td>baja</td>\n    </tr>\n    <tr>\n      <td>1</td>\n      <td>ABUSO DE AUTORIDAD Y USO ILEGAL DE LA FUERZA P...</td>\n      <td>2181.0</td>\n      <td>1334.0</td>\n      <td>baja</td>\n    </tr>\n    <tr>\n      <td>2</td>\n      <td>ABUSO DE CONFIANZA</td>\n      <td>4032.0</td>\n      <td>2460.0</td>\n      <td>baja</td>\n    </tr>\n    <tr>\n      <td>3</td>\n      <td>ABUSO SEXUAL</td>\n      <td>4053.0</td>\n      <td>2075.0</td>\n      <td>baja</td>\n    </tr>\n    <tr>\n      <td>4</td>\n      <td>ACOSO SEXUAL</td>\n      <td>946.0</td>\n      <td>636.0</td>\n      <td>baja</td>\n    </tr>\n    <tr>\n      <td>...</td>\n      <td>...</td>\n      <td>...</td>\n      <td>...</td>\n      <td>...</td>\n    </tr>\n    <tr>\n      <td>319</td>\n      <td>VIOLACION EQUIPARADA Y ROBO DE VEHICULO</td>\n      <td>4.0</td>\n      <td>2.0</td>\n      <td>baja</td>\n    </tr>\n    <tr>\n      <td>320</td>\n      <td>VIOLACION TUMULTUARIA</td>\n      <td>36.0</td>\n      <td>21.0</td>\n      <td>baja</td>\n    </tr>\n    <tr>\n      <td>321</td>\n      <td>VIOLACION TUMULTUARIA EQUIPARADA</td>\n      <td>1.0</td>\n      <td>0.0</td>\n      <td>baja</td>\n    </tr>\n    <tr>\n      <td>322</td>\n      <td>VIOLACION TUMULTUARIA EQUIPARADA POR CONOCIDO</td>\n      <td>3.0</td>\n      <td>0.0</td>\n      <td>baja</td>\n    </tr>\n    <tr>\n      <td>323</td>\n      <td>VIOLENCIA FAMILIAR</td>\n      <td>25776.0</td>\n      <td>17529.0</td>\n      <td>baja</td>\n    </tr>\n  </tbody>\n</table>\n<p>239 rows × 4 columns</p>\n</div>"
     },
     "metadata": {},
     "execution_count": 13
    }
   ],
   "source": [
    "analisis_delitos[analisis_delitos['estatus']=='baja']"
   ]
  },
  {
   "cell_type": "markdown",
   "metadata": {},
   "source": [
    "### 5) ¿Cuál es la alcaldía que más delitos tiene y cuál es la que menos?. ¿Por qué crees que sea esto?"
   ]
  },
  {
   "cell_type": "code",
   "execution_count": 14,
   "metadata": {},
   "outputs": [],
   "source": [
    "# grouping the data by alcladia and counting the crimes that are placed in them\n",
    "delitos_alcaldias = delitos_cdmx.groupby(['alcaldia_hechos']).agg(conteo = ('delito','count')).sort_values('conteo',ascending=False)"
   ]
  },
  {
   "cell_type": "code",
   "execution_count": 15,
   "metadata": {},
   "outputs": [],
   "source": [
    "#deleting the index in order to make an easier search\n",
    "delitos_alcaldias.reset_index(inplace=True)"
   ]
  },
  {
   "cell_type": "code",
   "execution_count": 16,
   "metadata": {
    "tags": []
   },
   "outputs": [
    {
     "output_type": "stream",
     "name": "stdout",
     "text": "La alcaldía CUAUHTEMOC tiene la mayor cantidad de crímenes con: 168,558\n\nLa alcaldía MILPA ALTA tiene la menor cantidad de crímenes con: 7,065\n"
    }
   ],
   "source": [
    "min_crimen = min(delitos_alcaldias['conteo'])\n",
    "max_crimen = max(delitos_alcaldias['conteo'])\n",
    "min_crimen_alcaldia = delitos_alcaldias[delitos_alcaldias['conteo']== min_crimen]['alcaldia_hechos'].values[0]\n",
    "max_crimen_alcaldia = delitos_alcaldias[delitos_alcaldias['conteo']== max_crimen]['alcaldia_hechos'].values[0]\n",
    "print(f'La alcaldía {max_crimen_alcaldia} tiene la mayor cantidad de crímenes con: {max_crimen:,d}\\n')\n",
    "print(f'La alcaldía {min_crimen_alcaldia} tiene la menor cantidad de crímenes con: {min_crimen:,d}')"
   ]
  },
  {
   "cell_type": "markdown",
   "metadata": {},
   "source": [
    "### ¿A qué se debe este fenómeno?\n",
    "\n",
    "Este problema se puede abordar de diferentes maneras, las que elijo analizar son: ubicación turística, ubicación corporativa y densidad poblacional.\n",
    "\n",
    "De acuerdo al INEGI la delegación Cuauhtémoc tiene 532,553 habitantes y en contraste Milpa Alta tiene 137,927. Al haber más habitantes en la primera delegación, se puede asumir que se corre el riesgo de mayor incidencia de un delito.\n",
    "\n",
    "Por otro lado, se tiene que una de las áreas más turísticas de la CDMX es el centro histórico (Cuauhtémoc), en donde se tiene una gran afluencia de gente dirarimanete, tanto local como foránea, debido a su gran flujo de dinero, podría ser una zona que sea de alto índice delictivo.\n",
    "\n",
    "Esta misma razón, podría aplicarse a la zona corporativa de la ciudad en la que suele haber una gran afluencia de gente. Ya que incluye zonas como La Roma Norte y Roma Sur.\n",
    "\n",
    "Cabe resaltar que estas conclusiones se realizan de manera inicial y exploratoria que podrían servir de hipótesis para elaborar un análisis más detallado. \n"
   ]
  },
  {
   "cell_type": "markdown",
   "metadata": {},
   "source": []
  },
  {
   "cell_type": "markdown",
   "metadata": {},
   "source": [
    "### 6) Dentro de cada alcaldía, ¿cuáles son las tres colonias con más delitos?\n",
    "\n"
   ]
  },
  {
   "cell_type": "code",
   "execution_count": 17,
   "metadata": {},
   "outputs": [],
   "source": [
    "delitos_colonias = delitos_cdmx.groupby(['alcaldia_hechos','colonia_hechos']).agg(conteo = ('delito','count')).sort_values(['conteo','alcaldia_hechos'],ascending=False)"
   ]
  },
  {
   "cell_type": "code",
   "execution_count": 18,
   "metadata": {},
   "outputs": [
    {
     "output_type": "execute_result",
     "data": {
      "text/plain": "                                        conteo\nalcaldia_hechos colonia_hechos                \nCUAUHTEMOC      CENTRO                   36051\n                DOCTORES                 21000\nBENITO JUAREZ   DEL VALLE CENTRO         15914\nCUAUHTEMOC      ROMA NORTE               13115\nBENITO JUAREZ   NARVARTE                 11613\n...                                        ...\nALVARO OBREGON  LA ARAÃ‘A                    1\n                LAS AMÃ‰RICAS                1\n                REACOMODO PINO SUÃREZ       1\n                RINCÃ“N DE LA BOLSA          1\n                VILLA VERDÃšN                1\n\n[2146 rows x 1 columns]",
      "text/html": "<div>\n<style scoped>\n    .dataframe tbody tr th:only-of-type {\n        vertical-align: middle;\n    }\n\n    .dataframe tbody tr th {\n        vertical-align: top;\n    }\n\n    .dataframe thead th {\n        text-align: right;\n    }\n</style>\n<table border=\"1\" class=\"dataframe\">\n  <thead>\n    <tr style=\"text-align: right;\">\n      <th></th>\n      <th></th>\n      <th>conteo</th>\n    </tr>\n    <tr>\n      <th>alcaldia_hechos</th>\n      <th>colonia_hechos</th>\n      <th></th>\n    </tr>\n  </thead>\n  <tbody>\n    <tr>\n      <td rowspan=\"2\" valign=\"top\">CUAUHTEMOC</td>\n      <td>CENTRO</td>\n      <td>36051</td>\n    </tr>\n    <tr>\n      <td>DOCTORES</td>\n      <td>21000</td>\n    </tr>\n    <tr>\n      <td>BENITO JUAREZ</td>\n      <td>DEL VALLE CENTRO</td>\n      <td>15914</td>\n    </tr>\n    <tr>\n      <td>CUAUHTEMOC</td>\n      <td>ROMA NORTE</td>\n      <td>13115</td>\n    </tr>\n    <tr>\n      <td>BENITO JUAREZ</td>\n      <td>NARVARTE</td>\n      <td>11613</td>\n    </tr>\n    <tr>\n      <td>...</td>\n      <td>...</td>\n      <td>...</td>\n    </tr>\n    <tr>\n      <td rowspan=\"5\" valign=\"top\">ALVARO OBREGON</td>\n      <td>LA ARAÃ‘A</td>\n      <td>1</td>\n    </tr>\n    <tr>\n      <td>LAS AMÃ‰RICAS</td>\n      <td>1</td>\n    </tr>\n    <tr>\n      <td>REACOMODO PINO SUÃREZ</td>\n      <td>1</td>\n    </tr>\n    <tr>\n      <td>RINCÃ“N DE LA BOLSA</td>\n      <td>1</td>\n    </tr>\n    <tr>\n      <td>VILLA VERDÃšN</td>\n      <td>1</td>\n    </tr>\n  </tbody>\n</table>\n<p>2146 rows × 1 columns</p>\n</div>"
     },
     "metadata": {},
     "execution_count": 18
    }
   ],
   "source": [
    "delitos_colonias"
   ]
  },
  {
   "cell_type": "markdown",
   "metadata": {},
   "source": [
    "### 7) ¿Existe alguna tendencia estacional en la ocurrencia de delitos (mes, semana, día de la semana, quincenas)?"
   ]
  },
  {
   "cell_type": "code",
   "execution_count": 19,
   "metadata": {},
   "outputs": [
    {
     "output_type": "execute_result",
     "data": {
      "text/plain": "   ao_hechos mes_hechos         fecha_hechos  \\\n0     2016.0      Enero  2016-01-06 00:00:00   \n1     2016.0      Enero  2016-01-07 13:00:00   \n2     2016.0      Enero  2016-01-07 12:10:00   \n3     2015.0  Diciembre  2015-12-27 19:30:00   \n4     2015.0  Diciembre  2015-12-10 20:00:00   \n\n                                       delito        categoria_delito  \\\n0        ROBO A CASA HABITACION SIN VIOLENCIA  DELITO DE BAJO IMPACTO   \n1  ROBO A TRANSEUNTE DE CELULAR CON VIOLENCIA  DELITO DE BAJO IMPACTO   \n2                          VIOLENCIA FAMILIAR  DELITO DE BAJO IMPACTO   \n3                 LESIONES CULPOSAS POR CAIDA  DELITO DE BAJO IMPACTO   \n4  ROBO A TRANSEUNTE DE CELULAR CON VIOLENCIA  DELITO DE BAJO IMPACTO   \n\n                                            fiscalia agencia  \\\n0                        INVESTIGACIÓN EN CUAUHTEMOC   CUH-8   \n1                 INVESTIGACIÓN EN GUSTAVO A. MADERO   GAM-4   \n2                        INVESTIGACIÓN EN IZTAPALAPA   IZP-8   \n3  INVESTIGACIÓN PARA LA ATENCIÓN DE NIÑOS, NIÑAS...      59   \n4                         INVESTIGACIÓN EN IZTACALCO   IZC-2   \n\n  unidad_investigacion      alcaldia_hechos        colonia_hechos  ao_inicio  \\\n0               UI-3CD           CUAUHTEMOC   AMPLIACIÓN ASTURIAS       2016   \n1               UI-2CD     GUSTAVO A MADERO            LINDAVISTA       2016   \n2               UI-3CD           IZTAPALAPA       PARAJE SAN JUAN       2016   \n3               UI-3CD  VENUSTIANO CARRANZA      LORENZO BOTURINI       2016   \n4               UI-3SD            IZTACALCO  GABRIEL RAMOS MILLÁN       2016   \n\n  mes_inicio         fecha_inicio                        calle_hechos  \\\n0      Enero  2016-01-07 15:23:35                             OTE. 69   \n1      Enero  2016-01-07 15:30:40                  AVENIDA MONTEVIDEO   \n2      Enero  2016-01-07 15:31:44  CAMINO VIEJO REAL DE SAN FRANCISCO   \n3      Enero  2016-01-07 15:35:29                    LORENZO BOTURINI   \n4      Enero  2016-01-07 15:35:38                       ORIENTE 100 A   \n\n               calle_hechos2   longitud    latitud                  geopoint  \n0                        NaN -99.129895  19.406097  19.4060969998,-99.129895  \n1            CALZADA VALLEJO -99.135347  19.491183  19.4911829998,-99.135347  \n2  AV. INSGTE. EUGENIO GIRON -99.065453  19.339127  19.3391269998,-99.065453  \n3                        NaN -99.127070  19.417356   19.4173559998,-99.12707  \n4                        NaN -99.103084  19.391399  19.3913989998,-99.103084  ",
      "text/html": "<div>\n<style scoped>\n    .dataframe tbody tr th:only-of-type {\n        vertical-align: middle;\n    }\n\n    .dataframe tbody tr th {\n        vertical-align: top;\n    }\n\n    .dataframe thead th {\n        text-align: right;\n    }\n</style>\n<table border=\"1\" class=\"dataframe\">\n  <thead>\n    <tr style=\"text-align: right;\">\n      <th></th>\n      <th>ao_hechos</th>\n      <th>mes_hechos</th>\n      <th>fecha_hechos</th>\n      <th>delito</th>\n      <th>categoria_delito</th>\n      <th>fiscalia</th>\n      <th>agencia</th>\n      <th>unidad_investigacion</th>\n      <th>alcaldia_hechos</th>\n      <th>colonia_hechos</th>\n      <th>ao_inicio</th>\n      <th>mes_inicio</th>\n      <th>fecha_inicio</th>\n      <th>calle_hechos</th>\n      <th>calle_hechos2</th>\n      <th>longitud</th>\n      <th>latitud</th>\n      <th>geopoint</th>\n    </tr>\n  </thead>\n  <tbody>\n    <tr>\n      <td>0</td>\n      <td>2016.0</td>\n      <td>Enero</td>\n      <td>2016-01-06 00:00:00</td>\n      <td>ROBO A CASA HABITACION SIN VIOLENCIA</td>\n      <td>DELITO DE BAJO IMPACTO</td>\n      <td>INVESTIGACIÓN EN CUAUHTEMOC</td>\n      <td>CUH-8</td>\n      <td>UI-3CD</td>\n      <td>CUAUHTEMOC</td>\n      <td>AMPLIACIÓN ASTURIAS</td>\n      <td>2016</td>\n      <td>Enero</td>\n      <td>2016-01-07 15:23:35</td>\n      <td>OTE. 69</td>\n      <td>NaN</td>\n      <td>-99.129895</td>\n      <td>19.406097</td>\n      <td>19.4060969998,-99.129895</td>\n    </tr>\n    <tr>\n      <td>1</td>\n      <td>2016.0</td>\n      <td>Enero</td>\n      <td>2016-01-07 13:00:00</td>\n      <td>ROBO A TRANSEUNTE DE CELULAR CON VIOLENCIA</td>\n      <td>DELITO DE BAJO IMPACTO</td>\n      <td>INVESTIGACIÓN EN GUSTAVO A. MADERO</td>\n      <td>GAM-4</td>\n      <td>UI-2CD</td>\n      <td>GUSTAVO A MADERO</td>\n      <td>LINDAVISTA</td>\n      <td>2016</td>\n      <td>Enero</td>\n      <td>2016-01-07 15:30:40</td>\n      <td>AVENIDA MONTEVIDEO</td>\n      <td>CALZADA VALLEJO</td>\n      <td>-99.135347</td>\n      <td>19.491183</td>\n      <td>19.4911829998,-99.135347</td>\n    </tr>\n    <tr>\n      <td>2</td>\n      <td>2016.0</td>\n      <td>Enero</td>\n      <td>2016-01-07 12:10:00</td>\n      <td>VIOLENCIA FAMILIAR</td>\n      <td>DELITO DE BAJO IMPACTO</td>\n      <td>INVESTIGACIÓN EN IZTAPALAPA</td>\n      <td>IZP-8</td>\n      <td>UI-3CD</td>\n      <td>IZTAPALAPA</td>\n      <td>PARAJE SAN JUAN</td>\n      <td>2016</td>\n      <td>Enero</td>\n      <td>2016-01-07 15:31:44</td>\n      <td>CAMINO VIEJO REAL DE SAN FRANCISCO</td>\n      <td>AV. INSGTE. EUGENIO GIRON</td>\n      <td>-99.065453</td>\n      <td>19.339127</td>\n      <td>19.3391269998,-99.065453</td>\n    </tr>\n    <tr>\n      <td>3</td>\n      <td>2015.0</td>\n      <td>Diciembre</td>\n      <td>2015-12-27 19:30:00</td>\n      <td>LESIONES CULPOSAS POR CAIDA</td>\n      <td>DELITO DE BAJO IMPACTO</td>\n      <td>INVESTIGACIÓN PARA LA ATENCIÓN DE NIÑOS, NIÑAS...</td>\n      <td>59</td>\n      <td>UI-3CD</td>\n      <td>VENUSTIANO CARRANZA</td>\n      <td>LORENZO BOTURINI</td>\n      <td>2016</td>\n      <td>Enero</td>\n      <td>2016-01-07 15:35:29</td>\n      <td>LORENZO BOTURINI</td>\n      <td>NaN</td>\n      <td>-99.127070</td>\n      <td>19.417356</td>\n      <td>19.4173559998,-99.12707</td>\n    </tr>\n    <tr>\n      <td>4</td>\n      <td>2015.0</td>\n      <td>Diciembre</td>\n      <td>2015-12-10 20:00:00</td>\n      <td>ROBO A TRANSEUNTE DE CELULAR CON VIOLENCIA</td>\n      <td>DELITO DE BAJO IMPACTO</td>\n      <td>INVESTIGACIÓN EN IZTACALCO</td>\n      <td>IZC-2</td>\n      <td>UI-3SD</td>\n      <td>IZTACALCO</td>\n      <td>GABRIEL RAMOS MILLÁN</td>\n      <td>2016</td>\n      <td>Enero</td>\n      <td>2016-01-07 15:35:38</td>\n      <td>ORIENTE 100 A</td>\n      <td>NaN</td>\n      <td>-99.103084</td>\n      <td>19.391399</td>\n      <td>19.3913989998,-99.103084</td>\n    </tr>\n  </tbody>\n</table>\n</div>"
     },
     "metadata": {},
     "execution_count": 19
    }
   ],
   "source": [
    "delitos_cdmx.head()"
   ]
  },
  {
   "cell_type": "code",
   "execution_count": 20,
   "metadata": {},
   "outputs": [],
   "source": [
    "delitos_cdmx['fecha_inicio'] = pd.to_datetime(delitos_cdmx['fecha_inicio'])"
   ]
  },
  {
   "source": [
    "### 10) ¿Cómo diseñarías un indicador que midiera el nivel “inseguridad”? Diséñalo al nivel de desagregación que te parezca más adecuado (ej. manzana, calle, AGEB, etc.).\n",
    "\n",
    "Dependiendo del tipo de delito, lo desagregaría a calle y después lo englobaría en colonia. Dado que se podría presentar un patrón en el que una sola calle o colonia está siendo la que presente las incidencias y eso no quiere decir que toda la alcaldia esté en foco rojo. Tomaría en cuenta el nivel de incidencia del delito y la fecha (desagregada para intentar encontrar patrones más definidos). Después agregaría factores socieconómicos, servicios públicos (alumbrado) y la afluencia de gente."
   ],
   "cell_type": "markdown",
   "metadata": {}
  }
 ]
}